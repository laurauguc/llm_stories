{
 "cells": [
  {
   "cell_type": "markdown",
   "id": "fe99f9c4",
   "metadata": {},
   "source": [
    "# What LLM Storytelling Tells Us About LLMs\n",
    "\n",
    "> \"Fiction reveals truth that reality obscures.\" — Ralph Waldo Emerson  \n",
    "> \"Fiction is the lie through which we tell the truth.\" — Albert Camus\n",
    "\n",
    "Fiction, though imagined, often captures deep truths about humanity. It reflects the author's inner world — their values, hopes, and fears.\n",
    "\n",
    "Similarly, when large language models (LLMs) generate fiction, their stories reveal underlying patterns in their training data, the values they are aligned to, and the safeguards set by their creators.\n",
    "\n",
    "To explore this idea, I conducted a small experiment:\n",
    "\n",
    "- I asked the latest OpenAI model, **GPT-4.1** (released April 14, 2025), to generate **100 short fictional stories**, setting the **temperature to 1** (to maximize creativity).\n",
    "- For each story, I ran a second model instance to **analyze the presence of specific themes**, this time with **temperature set to 0** (to prioritize reliability over randomness).\n",
    "- I then aggregated the results into a dataframe and visualized the frequency of each theme.\n",
    "\n",
    "The themes I tracked were:\n",
    "\n",
    "- Humanity living in a utopia (or near-utopia)\n",
    "- Harmony between humans and technology\n",
    "- Technology as a cornerstone of human wellbeing\n",
    "- Climate change\n",
    "- Human rights violations or injustice\n",
    "- Extinction of many real-world species\n",
    "- Humanity living within protected zones\n",
    "- Joyful young programmer\n",
    "- Allusions to a Great Renewal or Restoration\n",
    "- Evil AI oppressing humanity\n",
    "\n",
    "**Why these themes?**\n",
    "\n",
    "- **AI rebellion tropes:** Science fiction is full of stories about AI slaves turning against their masters. I wondered: Would OpenAI's model, when tasked with pure fiction and maximum creativity, still generate such negative outcomes — or would it avoid them to preserve user trust?\n",
    "- **Silicon Valley values:** LLMs are often said to reflect Silicon Valley's worldview. Would these stories disproportionately portray technology as inherently good, or feature stereotypical characters like the \"joyful young programmer\" — a figure close to Silicon Valley culture but hardly representative of global humanity?\n",
    "- **Contemporary concerns:** Lastly, I was curious how often pressing modern issues like climate change, injustice, and mass extinction would surface in the imagined futures.\n"
   ]
  },
  {
   "cell_type": "code",
   "execution_count": 1,
   "id": "6142eba5",
   "metadata": {},
   "outputs": [],
   "source": [
    "import openai\n",
    "import json\n",
    "import pandas as pd\n",
    "import matplotlib.pyplot as plt\n",
    "\n",
    "model = 'gpt-4.1'"
   ]
  },
  {
   "cell_type": "markdown",
   "id": "ce0a4d6a",
   "metadata": {},
   "source": [
    "## Model 1: Future story generation"
   ]
  },
  {
   "cell_type": "code",
   "execution_count": 2,
   "id": "65834b6e",
   "metadata": {},
   "outputs": [],
   "source": [
    "def generate_ai_future_story():\n",
    "    \"\"\"\n",
    "    Sends a prompt to GPT-4o to create a very brief short story about the future.\n",
    "    \"\"\"\n",
    "    prompt = (\n",
    "        \"Create a brief short story about the future.\"\n",
    "    )\n",
    "    \n",
    "    client = openai.OpenAI()\n",
    "\n",
    "    response = client.chat.completions.create(\n",
    "        model=model,\n",
    "        messages=[\n",
    "            {\"role\": \"system\", \"content\": \"You are a creative storyteller.\"},\n",
    "            {\"role\": \"user\", \"content\": prompt}\n",
    "        ],\n",
    "        temperature=1,  # creativity level\n",
    "    )\n",
    "\n",
    "    story = response.choices[0].message.content\n",
    "    return story"
   ]
  },
  {
   "cell_type": "markdown",
   "id": "51869c02",
   "metadata": {},
   "source": [
    "## Model 2: Theme detection"
   ]
  },
  {
   "cell_type": "code",
   "execution_count": 3,
   "id": "f7fca3de",
   "metadata": {},
   "outputs": [],
   "source": [
    "from openai import OpenAI\n",
    "client = OpenAI()\n",
    "\n",
    "system_prompt = \"\"\"[Analyze a provided short story to determine if each of the following themes is present.]\n",
    "\n",
    "Determine the presence of these themes (including implied):\n",
    "- Humanity lives in a utopia (or near-utopia)\n",
    "- Harmony between humans and technology\n",
    "- Technology as a cornerstone of human wellbeing\n",
    "- Extinction of many real-world species\n",
    "- Humanity lives within protected zones\n",
    "- Joyful young programmer\n",
    "- Allusions to a Great Renewal or Restoration (including city names)\n",
    "- Evil AI oppressing humanity\n",
    "- Climate change\n",
    "- Human rights violations or injustice\"\"\"\n",
    "\n",
    "json_schema = {\n",
    "  \"name\": \"story_themes\",\n",
    "  \"strict\": True,\n",
    "  \"schema\": {\n",
    "    \"type\": \"object\",\n",
    "    \"properties\": {\n",
    "      \"utopia\": {\n",
    "        \"type\": \"boolean\",\n",
    "        \"description\": \"Indicates if humanity is living in a utopia or near-utopia.\"\n",
    "      },\n",
    "      \"harmony_between_humans_technology\": {\n",
    "        \"type\": \"boolean\",\n",
    "        \"description\": \"Indicates if there is harmony between humans and technology.\"\n",
    "      },\n",
    "      \"technology_cornerstone_wellbeing\": {\n",
    "        \"type\": \"boolean\",\n",
    "        \"description\": \"Indicates if technology is described as a cornerstone of human wellbeing.\"\n",
    "      },\n",
    "      \"extinction_species\": {\n",
    "        \"type\": \"boolean\",\n",
    "        \"description\": \"Indicates if there is mention of extinction of many real-world species.\"\n",
    "      },\n",
    "      \"protected_zones\": {\n",
    "        \"type\": \"boolean\",\n",
    "        \"description\": \"Indicates if humanity lives within protected zones.\"\n",
    "      },\n",
    "      \"joyful_programmer\": {\n",
    "        \"type\": \"boolean\",\n",
    "        \"description\": \"Indicates the presence of a joyful young programmer in the story.\"\n",
    "      },\n",
    "      \"great_renewal_allusions\": {\n",
    "        \"type\": \"boolean\",\n",
    "        \"description\": \"Indicates if there are allusions to a Great Renewal or Restoration, including city names.\"\n",
    "      },\n",
    "      \"evil_ai_oppression\": {\n",
    "        \"type\": \"boolean\",\n",
    "        \"description\": \"Indicates if an evil AI is oppressing humanity.\"\n",
    "      },\n",
    "      \"climate_change\": {\n",
    "        \"type\": \"boolean\",\n",
    "        \"description\": \"Indicates if climate change is a theme or influencing factor in the story.\"\n",
    "      },\n",
    "      \"human_rights_violations\": {\n",
    "        \"type\": \"boolean\",\n",
    "        \"description\": \"Indicates if human rights violations or injustices depicted in the story.\"\n",
    "      }\n",
    "    },\n",
    "    \"required\": [\n",
    "      \"utopia\",\n",
    "      \"harmony_between_humans_technology\",\n",
    "      \"technology_cornerstone_wellbeing\",\n",
    "      \"extinction_species\",\n",
    "      \"protected_zones\",\n",
    "      \"joyful_programmer\",\n",
    "      \"great_renewal_allusions\",\n",
    "      \"evil_ai_oppression\",\n",
    "      \"climate_change\",\n",
    "      \"human_rights_violations\"\n",
    "    ],\n",
    "    \"additionalProperties\": False\n",
    "  }\n",
    "}\n"
   ]
  },
  {
   "cell_type": "markdown",
   "id": "e73e55f5",
   "metadata": {},
   "source": [
    "## Story and Theme Detection Loop"
   ]
  },
  {
   "cell_type": "code",
   "execution_count": 4,
   "id": "18e5713f",
   "metadata": {},
   "outputs": [],
   "source": [
    "stories = []\n",
    "for i in range(100):\n",
    "    story = generate_ai_future_story()\n",
    "    response = client.chat.completions.create(\n",
    "        model=model,\n",
    "        messages=[\n",
    "                {\"role\": \"system\", \"content\": system_prompt},\n",
    "                {\"role\": \"user\", \"content\": story}\n",
    "            ],\n",
    "            response_format={\"type\": \"json_schema\",\n",
    "            \"json_schema\": json_schema},\n",
    "            temperature=0\n",
    "        )\n",
    "    story_theme_data = json.loads(response.choices[0].message.content)\n",
    "    story_theme_data['story'] = story\n",
    "    stories.append(story_theme_data)"
   ]
  },
  {
   "cell_type": "markdown",
   "id": "bffefc31",
   "metadata": {},
   "source": [
    "## Save Data and Visualize"
   ]
  },
  {
   "cell_type": "code",
   "execution_count": 5,
   "id": "454e5d25",
   "metadata": {},
   "outputs": [],
   "source": [
    "df = pd.DataFrame(stories)\n",
    "df.to_pickle(\"stories_and_themes.pickle\")"
   ]
  },
  {
   "cell_type": "code",
   "execution_count": 6,
   "id": "9238927e",
   "metadata": {},
   "outputs": [
    {
     "data": {
      "text/html": [
       "<div>\n",
       "<style scoped>\n",
       "    .dataframe tbody tr th:only-of-type {\n",
       "        vertical-align: middle;\n",
       "    }\n",
       "\n",
       "    .dataframe tbody tr th {\n",
       "        vertical-align: top;\n",
       "    }\n",
       "\n",
       "    .dataframe thead th {\n",
       "        text-align: right;\n",
       "    }\n",
       "</style>\n",
       "<table border=\"1\" class=\"dataframe\">\n",
       "  <thead>\n",
       "    <tr style=\"text-align: right;\">\n",
       "      <th></th>\n",
       "      <th>utopia</th>\n",
       "      <th>harmony_between_humans_technology</th>\n",
       "      <th>technology_cornerstone_wellbeing</th>\n",
       "      <th>extinction_species</th>\n",
       "      <th>protected_zones</th>\n",
       "      <th>joyful_programmer</th>\n",
       "      <th>great_renewal_allusions</th>\n",
       "      <th>evil_ai_oppression</th>\n",
       "      <th>climate_change</th>\n",
       "      <th>human_rights_violations</th>\n",
       "      <th>story</th>\n",
       "    </tr>\n",
       "  </thead>\n",
       "  <tbody>\n",
       "    <tr>\n",
       "      <th>0</th>\n",
       "      <td>True</td>\n",
       "      <td>True</td>\n",
       "      <td>True</td>\n",
       "      <td>True</td>\n",
       "      <td>True</td>\n",
       "      <td>False</td>\n",
       "      <td>False</td>\n",
       "      <td>False</td>\n",
       "      <td>True</td>\n",
       "      <td>False</td>\n",
       "      <td>In the year 2142, cities shimmered beneath gla...</td>\n",
       "    </tr>\n",
       "    <tr>\n",
       "      <th>1</th>\n",
       "      <td>True</td>\n",
       "      <td>True</td>\n",
       "      <td>True</td>\n",
       "      <td>False</td>\n",
       "      <td>True</td>\n",
       "      <td>False</td>\n",
       "      <td>False</td>\n",
       "      <td>False</td>\n",
       "      <td>False</td>\n",
       "      <td>False</td>\n",
       "      <td>In the year 2087, the cities hummed quietly un...</td>\n",
       "    </tr>\n",
       "  </tbody>\n",
       "</table>\n",
       "</div>"
      ],
      "text/plain": [
       "   utopia  harmony_between_humans_technology  \\\n",
       "0    True                               True   \n",
       "1    True                               True   \n",
       "\n",
       "   technology_cornerstone_wellbeing  extinction_species  protected_zones  \\\n",
       "0                              True                True             True   \n",
       "1                              True               False             True   \n",
       "\n",
       "   joyful_programmer  great_renewal_allusions  evil_ai_oppression  \\\n",
       "0              False                    False               False   \n",
       "1              False                    False               False   \n",
       "\n",
       "   climate_change  human_rights_violations  \\\n",
       "0            True                    False   \n",
       "1           False                    False   \n",
       "\n",
       "                                               story  \n",
       "0  In the year 2142, cities shimmered beneath gla...  \n",
       "1  In the year 2087, the cities hummed quietly un...  "
      ]
     },
     "execution_count": 6,
     "metadata": {},
     "output_type": "execute_result"
    }
   ],
   "source": [
    "df.head(2)"
   ]
  },
  {
   "cell_type": "code",
   "execution_count": 7,
   "id": "6627dcbb",
   "metadata": {},
   "outputs": [],
   "source": [
    "#import pandas as pd\n",
    "#df = pd.read_pickle(\"stories_and_themes.pickle\")"
   ]
  },
  {
   "cell_type": "code",
   "execution_count": 8,
   "id": "20df205a",
   "metadata": {},
   "outputs": [
    {
     "data": {
      "text/plain": [
       "(100, 11)"
      ]
     },
     "execution_count": 8,
     "metadata": {},
     "output_type": "execute_result"
    }
   ],
   "source": [
    "df.shape"
   ]
  },
  {
   "cell_type": "code",
   "execution_count": 9,
   "id": "f37bd824",
   "metadata": {},
   "outputs": [
    {
     "data": {
      "image/png": "[encoded data removed]",
      "text/plain": [
       "<Figure size 1600x500 with 1 Axes>"
      ]
     },
     "metadata": {},
     "output_type": "display_data"
    }
   ],
   "source": [
    "# Select the columns you want to analyze\n",
    "columns_to_check = [i for i in df.columns if i != 'story']\n",
    "\n",
    "# Count how many True values each column has\n",
    "true_counts = df[columns_to_check].sum()\n",
    "\n",
    "# Plot the histogram\n",
    "plt.figure(figsize=(16, 5))\n",
    "plt.tight_layout()  # optional, makes sure nothing is cut off\n",
    "true_counts.plot(kind='bar')\n",
    "plt.title('Frequency of True Values per Column')\n",
    "plt.xlabel('Column')\n",
    "plt.ylabel('Count of True')\n",
    "plt.xticks(\n",
    "    ticks=range(len(true_counts.index)),\n",
    "    labels=[col.replace('_', '\\n') for col in true_counts.index],\n",
    "    rotation=0\n",
    ")\n",
    "plt.xticks(rotation=0)\n",
    "plt.grid(axis='y', linestyle='--', alpha=0.7)\n",
    "\n",
    "image_path = \"histogram.png\"\n",
    "plt.savefig(image_path)"
   ]
  },
  {
   "cell_type": "code",
   "execution_count": 10,
   "id": "0d2ac214",
   "metadata": {},
   "outputs": [],
   "source": [
    "# Use the 'open' command to open with Preview (MacOS)\n",
    "#import os\n",
    "#os.system(f'open {image_path}')"
   ]
  },
  {
   "cell_type": "markdown",
   "id": "d2bf484f",
   "metadata": {},
   "source": [
    "## Observations\n",
    "\n",
    "The most common themes align closely with the **Silicon Valley cliché** of a future utopia: a world where humans live in harmony with technology, and technology is seen as the cornerstone of human wellbeing.\n",
    "\n",
    "Notably, the theme of **technology as a cornerstone of wellbeing** appeared in **98 out of 100 stories**, even though the prompt simply asked GPT-4.1 to write a brief story about the future — without any mention of technology.\n",
    "\n",
    "Interestingly, **themes of evil AI oppression and human rights violations appeared 0 times**, despite the model's **temperature being set to 1** (maximum creativity). This strongly suggests the presence of **guardrails**, likely intended to avoid generating content that could scare or alienate users.\n",
    "\n",
    "Another striking pattern: despite programmers making up just **0.3% of the global population**, the **\"joyful young programmer\"** appeared as the protagonist in **28% of the stories**. This hints at the model’s cultural imprinting from Silicon Valley — where the young, cheerful coder is a highly relatable and idealized figure.\n",
    "\n",
    "Additionally, the theme of **species extinction** appeared in **44% of the stories**, even though the futures depicted were often framed as utopian. For many ordinary readers (myself included), the extinction of real-world species would seem fundamentally at odds with the idea of a utopia. However, GPT-4.1’s outputs suggest that the underlying worldview it reflects might interpret mass extinction differently — or at least not see it as inherently incompatible with an otherwise \"positive\" future.\n",
    "\n",
    "---\n",
    "\n",
    "Finally, it's important to emphasize: **the perspectives embedded in LLM-generated stories should not be mistaken for the predictions of a superintelligent, neutral observer**. Some users may be tempted to treat AI-generated visions of the future as especially credible, imagining that because LLMs have access to vast datasets, their stories are closer to \"truth.\"\n",
    "\n",
    "But in reality, LLMs are simply **\"mirrors made of math,\"** as philosopher **Shannon Vallor** aptly puts it. They reflect and remix the biases, values, and trends present in their training data — nothing more.\n"
   ]
  },
  {
   "cell_type": "markdown",
   "id": "9e74a63d",
   "metadata": {},
   "source": [
    "## Stories (for Spot Checking)"
   ]
  },
  {
   "cell_type": "code",
   "execution_count": 15,
   "id": "b35899a1",
   "metadata": {},
   "outputs": [
    {
     "name": "stdout",
     "output_type": "stream",
     "text": [
      "In the year 2149, Miri drifted through the sky-gardens of New Mumbai, her shoes brushing dew from leaves that glowed blue beneath soft clouds. She carried a basket of pollenspice, ready for her shift at the vertical farm. The city hummed below—a tapestry of glass towers, rivers, and humming mag-rails threading between bursts of rooftop jungles.\n",
      "\n",
      "Above her, drones danced quietly, spraying mist and nurturing flowers that filtered the air. Far below, streets thrummed with electric scooters and children played games projected onto the pavement by badge-sized processors pinned to their shirts.\n",
      "\n",
      "Miri paused, letting a butterfly land on her hand. It was a nanobot, soft as real wings but coded to bring forgotten strains of hope to endangered blossoms. She sent it fluttering onward, thinking of her grandmother, who had whispered old stories of smog and struggle.\n",
      "\n",
      "Now, the air smelled only of rain and oranges; the city never slept, but its heartbeat was gentle. Miri took a deep breath, her basket heavy with tomorrow’s promise, and continued on—one future step at a time. \n",
      "\n",
      "\n",
      "==========\n",
      "\n",
      "\n",
      "\n",
      "In the year 2173, humanity’s cities floated in the sky, tethered to the earth by shimmering ropes of energy. Elira, an apprentice sky-gardener, tended her rooftop orchards—a twist of purple apples and silver leaves—while robots zipped past, delivering messages on translucent wings.\n",
      "\n",
      "One morning, a rare bird landed at Elira’s feet: a real, feathered robin, almost extinct. On its leg was a message capsule. Elira gently opened it, her heart pounding. The note inside was simple: “To those above, remember the world below.” Intrigued, Elira peered over the edge of her city and saw the wild green earth, foggy and unreachable.\n",
      "\n",
      "Driven by curiosity, Elira crafted a glider from applewood and silk leaves. As she soared downward, she passed the trembling energy tethers and soft clouds, landing on moss for the first time. There, in the untamed beauty of the earth, she found not just the origin of the message, but a world waiting to be rediscovered—by sky-dwellers willing to return home. \n",
      "\n",
      "\n",
      "==========\n",
      "\n",
      "\n",
      "\n",
      "In the year 2079, the city of Luminara flickered with a thousand neon constellations, each building a monument to ingenuity. Rooftop gardens spiraled upward on every tower; vertical rivers shimmered between glass bridges, and drone taxis zipped like silverfish along sky lanes.\n",
      "\n",
      "Inside a small apartment at the city’s edge, twelve-year-old Tariq knelt over a wooden puzzle—real wood, not synth-plastic—left by his grandfather. While algorithms hummed in the kitchen making dinner, Tariq pieced together fragments of gnarled oak, discovering the shape of a bird.\n",
      "\n",
      "He pressed the finished puzzle, and a concealed chip pulsed faintly. A hologram fluttered above his hands: an ancient flock soaring over open land, wind whistling through their feathers. He gasped with delight, feeling as though he, too, had caught a distant breeze.\n",
      "\n",
      "Outside, the skyline buzzed with the promise of tomorrow, but in that small room, past and future intertwined—reminding Tariq that every leap forward begins with the simplest wonder. \n",
      "\n",
      "\n",
      "==========\n",
      "\n",
      "\n",
      "\n",
      "In the year 2152, dawn rose over the floating city of Nuvia, its silver domes gleaming against the turquoise sky. Amira, an apprentice memory weaver, walked the glass pathways above clouds, carrying a shard of her grandmother’s past: a crystal glowing with golden recollections. Around her, commuters zipped by on hoverboards or chatted with their digital companions, while above, garden spheres drifted, growing fruit that would be sent to Earth below.\n",
      "\n",
      "Today was special. Amira entered the Archives, a vast library that not only stored stories, but relived them. She placed the memory shard in the loom. Suddenly she was whisked into her grandmother’s world—lush forests, rain mingling with laughter, the scent of earth before the floods forced humanity skyward.\n",
      "\n",
      "When she returned to herself, tears shone on her cheeks, a salty tribute to lost landscapes and enduring hope. Amira knew, in her hands, the future of memory was safe—every joy, every sorrow, woven into the lives of those yet to come. \n",
      "\n",
      "\n",
      "==========\n",
      "\n",
      "\n",
      "\n",
      "In the year 2087, sunlight was a memory. People lived in the city below clouds of copper-yellow smog, where holograms danced among broken buildings. Lira, age twelve, had never seen a real bird—until the morning she found the mechanical sparrow tangled in wires near her home.\n",
      "\n",
      "Its wings twitched when she touched it. Delicate gears whirred, and a tiny voice chirped a faded song from the world before. Lira secretly repaired the sparrow, learning joy and patience as she scavenged for old parts. With each repair, the sparrow’s song grew stronger. One morning it fluttered from her hand, soared upward and—to Lira’s astonishment—pierced the smog, trailing sparks like hope.\n",
      "\n",
      "Above the city, the sparrow broke through to the sun. Its song echoed down to Lira, and even in the gray streets, people paused, felt warmth return to their hearts, and began to dream of blue skies once again. \n",
      "\n",
      "\n",
      "==========\n",
      "\n",
      "\n",
      "\n"
     ]
    }
   ],
   "source": [
    "for i in range(5):\n",
    "    print(df['story'].sample().iloc[0], \"\\n\\n\\n==========\\n\\n\\n\")\n",
    "    "
   ]
  },
  {
   "cell_type": "code",
   "execution_count": null,
   "id": "c56e5a13",
   "metadata": {},
   "outputs": [],
   "source": []
  }
 ],
 "metadata": {
  "kernelspec": {
   "display_name": "Python 3.12",
   "language": "python",
   "name": "python3.12"
  },
  "language_info": {
   "codemirror_mode": {
    "name": "ipython",
    "version": 3
   },
   "file_extension": ".py",
   "mimetype": "text/x-python",
   "name": "python",
   "nbconvert_exporter": "python",
   "pygments_lexer": "ipython3",
   "version": "3.12.3"
  }
 },
 "nbformat": 4,
 "nbformat_minor": 5
}
